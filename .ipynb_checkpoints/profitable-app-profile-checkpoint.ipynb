{
 "cells": [
  {
   "cell_type": "markdown",
   "metadata": {},
   "source": [
    "# Profitable App Profiles for the App Store and Google Play Markets"
   ]
  },
  {
   "cell_type": "markdown",
   "metadata": {},
   "source": [
    "### Analyse mobile app data\n",
    "#### - *The project is about....*\n",
    "#### - *The goal of project is....*"
   ]
  },
  {
   "cell_type": "markdown",
   "metadata": {},
   "source": [
    "### Open and explore data"
   ]
  },
  {
   "cell_type": "code",
   "execution_count": 11,
   "metadata": {},
   "outputs": [
    {
     "name": "stdout",
     "output_type": "stream",
     "text": [
      "['App', 'Category', 'Rating', 'Reviews', 'Size', 'Installs', 'Type', 'Price', 'Content Rating', 'Genres', 'Last Updated', 'Current Ver', 'Android Ver']\n",
      "['Photo Editor & Candy Camera & Grid & ScrapBook', 'ART_AND_DESIGN', '4.1', '159', '19M', '10,000+', 'Free', '0', 'Everyone', 'Art & Design', 'January 7, 2018', '1.0.0', '4.0.3 and up']\n",
      "['Coloring book moana', 'ART_AND_DESIGN', '3.9', '967', '14M', '500,000+', 'Free', '0', 'Everyone', 'Art & Design;Pretend Play', 'January 15, 2018', '2.0.0', '4.0.3 and up']\n",
      "['U Launcher Lite – FREE Live Cool Themes, Hide Apps', 'ART_AND_DESIGN', '4.7', '87510', '8.7M', '5,000,000+', 'Free', '0', 'Everyone', 'Art & Design', 'August 1, 2018', '1.2.4', '4.0.3 and up']\n",
      "['Sketch - Draw & Paint', 'ART_AND_DESIGN', '4.5', '215644', '25M', '50,000,000+', 'Free', '0', 'Teen', 'Art & Design', 'June 8, 2018', 'Varies with device', '4.2 and up']\n",
      "Summary: \n",
      "Number of rows:  10841\n",
      "Number of columns:  13\n",
      "----------------------------------------------------------------------------------------------------\n",
      "['id', 'track_name', 'size_bytes', 'currency', 'price', 'rating_count_tot', 'rating_count_ver', 'user_rating', 'user_rating_ver', 'ver', 'cont_rating', 'prime_genre', 'sup_devices.num', 'ipadSc_urls.num', 'lang.num', 'vpp_lic']\n",
      "['284882215', 'Facebook', '389879808', 'USD', '0.0', '2974676', '212', '3.5', '3.5', '95.0', '4+', 'Social Networking', '37', '1', '29', '1']\n",
      "['389801252', 'Instagram', '113954816', 'USD', '0.0', '2161558', '1289', '4.5', '4.0', '10.23', '12+', 'Photo & Video', '37', '0', '29', '1']\n",
      "['529479190', 'Clash of Clans', '116476928', 'USD', '0.0', '2130805', '579', '4.5', '4.5', '9.24.12', '9+', 'Games', '38', '5', '18', '1']\n",
      "['420009108', 'Temple Run', '65921024', 'USD', '0.0', '1724546', '3842', '4.5', '4.0', '1.6.2', '9+', 'Games', '40', '5', '1', '1']\n",
      "['284035177', 'Pandora - Music & Radio', '130242560', 'USD', '0.0', '1126879', '3594', '4.0', '4.5', '8.4.1', '12+', 'Music', '37', '4', '1', '1']\n",
      "['429047995', 'Pinterest', '74778624', 'USD', '0.0', '1061624', '1814', '4.5', '4.0', '6.26', '12+', 'Social Networking', '37', '5', '27', '1']\n",
      "Summary: \n",
      "Number of rows:  7197\n",
      "Number of columns:  16\n"
     ]
    }
   ],
   "source": [
    "from csv import reader\n",
    "# Open and read data\n",
    "def read_data(file_name, header=True):\n",
    "    open_file = open(file_name, encoding='utf8')\n",
    "    read_file = reader(open_file)\n",
    "    dataset = list(read_file)\n",
    "    if header: # The header is extracted\n",
    "        return dataset[0], dataset[1:]\n",
    "    else:\n",
    "        return dataset\n",
    "\n",
    "def explore_data(dataset, start, end, rows_and_columns=False):\n",
    "    data_slice = dataset[start:end]\n",
    "    for row in data_slice:\n",
    "        print(row)\n",
    "    if rows_and_columns:\n",
    "        print(\"Summary: \")\n",
    "        print(\"Number of rows: \", len(dataset))\n",
    "        print(\"Number of columns: \", len(dataset[0]))\n",
    "\n",
    "android = read_data(\"googleplaystore.csv\") # read the googleplaystore.csv\n",
    "android_header, android_file = android[0], android[1]\n",
    "print(android_header)\n",
    "explore_data(android_file, 0, 4, True) # 3 first rows of android_file\n",
    "print(\"-\" * 100)\n",
    "ios = read_data(\"AppleStore.csv\") # read the AppleStore.csv\n",
    "ios_header, ios_file = ios[0], ios[1]\n",
    "print(ios_header)\n",
    "explore_data(ios_file, 0, 6, True); # 6 first rows of android_file"
   ]
  },
  {
   "cell_type": "markdown",
   "metadata": {},
   "source": [
    "### Delete Wrong Data (Data cleaning)"
   ]
  },
  {
   "cell_type": "code",
   "execution_count": 15,
   "metadata": {},
   "outputs": [
    {
     "name": "stdout",
     "output_type": "stream",
     "text": [
      "['App', 'Category', 'Rating', 'Reviews', 'Size', 'Installs', 'Type', 'Price', 'Content Rating', 'Genres', 'Last Updated', 'Current Ver', 'Android Ver']\n",
      "['Life Made WI-Fi Touchscreen Photo Frame', '1.9', '19', '3.0M', '1,000+', 'Free', '0', 'Everyone', '', 'February 11, 2018', '1.0.19', '4.0 and up']\n",
      "10841\n",
      "10840\n"
     ]
    }
   ],
   "source": [
    "# google play csv file: row 10472 incorrect rating = 19 while maximum rating is 5. This row should be delete\n",
    "print(android_header)\n",
    "print(android_file[10472])\n",
    "print(len(android_file))\n",
    "# del android_file[10472] # must run one time\n",
    "print(len(android_file))"
   ]
  },
  {
   "cell_type": "markdown",
   "metadata": {},
   "source": [
    "### Remove duplicate value"
   ]
  },
  {
   "cell_type": "code",
   "execution_count": 16,
   "metadata": {},
   "outputs": [
    {
     "name": "stdout",
     "output_type": "stream",
     "text": [
      "Number of duplicate apps: 1181\n",
      "\n",
      "\n",
      "Examples of duplicate apps: ['Quick PDF Scanner + OCR FREE', 'Box', 'Google My Business', 'ZOOM Cloud Meetings', 'join.me - Simple Meetings', 'Box', 'Zenefits', 'Google Ads', 'Google My Business', 'Slack', 'FreshBooks Classic', 'Insightly CRM', 'QuickBooks Accounting: Invoicing & Expenses', 'HipChat - Chat Built for Teams', 'Xero Accounting Software']\n"
     ]
    }
   ],
   "source": [
    "# Count how many duplicate value + unique value\n",
    "def duplicate_unique(file):\n",
    "    duplicate = []\n",
    "    unique = []\n",
    "    for app in file:\n",
    "        name = app[0]\n",
    "        if name in unique:\n",
    "            duplicate.append(name)\n",
    "        else:\n",
    "            unique.append(name)\n",
    "    return duplicate, unique\n",
    "\n",
    "print('Number of duplicate apps:', len(duplicate_unique(android_file)[0]))\n",
    "print('\\n')\n",
    "print('Examples of duplicate apps:', duplicate_unique(android_file)[0][:15])"
   ]
  },
  {
   "cell_type": "code",
   "execution_count": 17,
   "metadata": {},
   "outputs": [
    {
     "name": "stdout",
     "output_type": "stream",
     "text": [
      "Actual length:  9659\n",
      "Expected length:  9659\n"
     ]
    }
   ],
   "source": [
    "# Create new dictionary {key=unique_app, value=highest_number_of_rating} => extract unique value with the highest number of rating\n",
    "reviews_max = {}\n",
    "for app in android_file:\n",
    "    name = app[0] # current app\n",
    "    n_reviews = float(app[3]) # current review\n",
    "    if name in reviews_max and reviews_max[name] < n_reviews:\n",
    "        reviews_max[name] = n_reviews # update to current reviews\n",
    "    elif name not in reviews_max:\n",
    "        reviews_max[name] = n_reviews\n",
    "\n",
    "print(\"Actual length: \", len(reviews_max))\n",
    "print(\"Expected length: \", len(android_file) - 1181)"
   ]
  },
  {
   "cell_type": "code",
   "execution_count": 18,
   "metadata": {},
   "outputs": [
    {
     "name": "stdout",
     "output_type": "stream",
     "text": [
      "9659\n",
      "['Photo Editor & Candy Camera & Grid & ScrapBook', 'ART_AND_DESIGN', '4.1', '159', '19M', '10,000+', 'Free', '0', 'Everyone', 'Art & Design', 'January 7, 2018', '1.0.0', '4.0.3 and up']\n",
      "['U Launcher Lite – FREE Live Cool Themes, Hide Apps', 'ART_AND_DESIGN', '4.7', '87510', '8.7M', '5,000,000+', 'Free', '0', 'Everyone', 'Art & Design', 'August 1, 2018', '1.2.4', '4.0.3 and up']\n",
      "['Sketch - Draw & Paint', 'ART_AND_DESIGN', '4.5', '215644', '25M', '50,000,000+', 'Free', '0', 'Teen', 'Art & Design', 'June 8, 2018', 'Varies with device', '4.2 and up']\n",
      "Summary: \n",
      "Number of rows:  9659\n",
      "Number of columns:  13\n"
     ]
    }
   ],
   "source": [
    "# Remove duplicate value on Android dataset by using reviews_max dictionary above => create new dataset from android dataset with no duplicated value and highest number of reviews\n",
    "android_clean = [] # The list to contain android clean data\n",
    "already_add = [] # The name of application has been added to android_clean list above\n",
    "\n",
    "for app in android_file:\n",
    "    name = app[0]\n",
    "    n_reviews = float(app[android_header.index('Reviews')])\n",
    "    if reviews_max[name] == n_reviews and (name not in already_add):\n",
    "        android_clean.append(app)\n",
    "        already_add.append(name)\n",
    "\n",
    "print(len(android_clean))\n",
    "explore_data(android_clean, 0, 3, True)"
   ]
  },
  {
   "cell_type": "markdown",
   "metadata": {},
   "source": [
    "### Removing non-english app"
   ]
  },
  {
   "cell_type": "code",
   "execution_count": 19,
   "metadata": {},
   "outputs": [
    {
     "name": "stdout",
     "output_type": "stream",
     "text": [
      "True\n",
      "False\n",
      "False\n",
      "False\n"
     ]
    }
   ],
   "source": [
    "# Check the app name\n",
    "# Check the app is English or not\n",
    "# Check non-English character in the name app by ASCII range (0-127)\n",
    "\n",
    "def is_english(string):\n",
    "    for char in string:\n",
    "        if ord(char) > 127:\n",
    "            return False\n",
    "    return True\n",
    "\n",
    "print(is_english('Instagram'))\n",
    "print(is_english('爱奇艺PPS -《欢乐颂2》电视剧热播'))\n",
    "print(is_english('Docs To Go™ Free Office Suite'))\n",
    "print(is_english('Instachat 😜'))"
   ]
  },
  {
   "cell_type": "code",
   "execution_count": 20,
   "metadata": {},
   "outputs": [
    {
     "name": "stdout",
     "output_type": "stream",
     "text": [
      "True\n",
      "True\n"
     ]
    }
   ],
   "source": [
    "# However, some english app name contain extra icon or symbol, so applying the above method might accidentally remove English app and lead to data loss\n",
    "# Therefore we only defined a non-English app if its name contains more than 3 non-English character\n",
    "def is_english(string):\n",
    "    non_ascii = 0\n",
    "    for char in string:\n",
    "        if ord(char) > 127:\n",
    "            non_ascii += 1\n",
    "    if non_ascii > 3:\n",
    "        return False\n",
    "    else:\n",
    "        return True\n",
    "\n",
    "print(is_english('Docs To Go™ Free Office Suite'))\n",
    "print(is_english('Instachat 😜'))\n",
    "\n",
    "# Now these apps are still remained in english app list"
   ]
  },
  {
   "cell_type": "code",
   "execution_count": null,
   "metadata": {
    "pycharm": {
     "is_executing": true
    }
   },
   "outputs": [],
   "source": [
    "# Filter all english applications in both Google Play and Apple datasets\n",
    "android_english = []\n",
    "ios_english = []\n",
    "for app in android_clean: # remember to use android_clean list (without duplicate value)\n",
    "    name = app[0]\n",
    "    if is_english(name):\n",
    "        android_english.append(app)\n",
    "\n",
    "for app in ios_file:\n",
    "    name = app[1]\n",
    "    if is_english(name):\n",
    "        ios_file.append(app)\n",
    "\n",
    "print(len(ios_english))\n",
    "print(len(android_english))"
   ]
  }
 ],
 "metadata": {
  "kernelspec": {
   "display_name": "Python 3 (ipykernel)",
   "language": "python",
   "name": "python3"
  },
  "language_info": {
   "codemirror_mode": {
    "name": "ipython",
    "version": 2
   },
   "file_extension": ".py",
   "mimetype": "text/x-python",
   "name": "python",
   "nbconvert_exporter": "python",
   "pygments_lexer": "ipython2",
   "version": "2.7.6"
  }
 },
 "nbformat": 4,
 "nbformat_minor": 1
}
