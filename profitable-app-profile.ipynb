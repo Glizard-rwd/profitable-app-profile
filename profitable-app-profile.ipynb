{
 "cells": [
  {
   "cell_type": "markdown",
   "metadata": {},
   "source": [
    "# Profitable App Profiles for the App Store and Google Play Markets"
   ]
  },
  {
   "cell_type": "markdown",
   "metadata": {},
   "source": [
    "### Analyse mobile app data\n",
    "#### - *The project is about....*\n",
    "#### - *The goal of project is....*"
   ]
  },
  {
   "cell_type": "markdown",
   "metadata": {},
   "source": [
    "### Open and explore data"
   ]
  },
  {
   "cell_type": "code",
   "execution_count": 5,
   "metadata": {},
   "outputs": [
    {
     "name": "stdout",
     "output_type": "stream",
     "text": [
      "['App', 'Category', 'Rating', 'Reviews', 'Size', 'Installs', 'Type', 'Price', 'Content Rating', 'Genres', 'Last Updated', 'Current Ver', 'Android Ver']\n",
      "['Photo Editor & Candy Camera & Grid & ScrapBook', 'ART_AND_DESIGN', '4.1', '159', '19M', '10,000+', 'Free', '0', 'Everyone', 'Art & Design', 'January 7, 2018', '1.0.0', '4.0.3 and up']\n",
      "['Coloring book moana', 'ART_AND_DESIGN', '3.9', '967', '14M', '500,000+', 'Free', '0', 'Everyone', 'Art & Design;Pretend Play', 'January 15, 2018', '2.0.0', '4.0.3 and up']\n",
      "['U Launcher Lite – FREE Live Cool Themes, Hide Apps', 'ART_AND_DESIGN', '4.7', '87510', '8.7M', '5,000,000+', 'Free', '0', 'Everyone', 'Art & Design', 'August 1, 2018', '1.2.4', '4.0.3 and up']\n",
      "['Sketch - Draw & Paint', 'ART_AND_DESIGN', '4.5', '215644', '25M', '50,000,000+', 'Free', '0', 'Teen', 'Art & Design', 'June 8, 2018', 'Varies with device', '4.2 and up']\n",
      "Summary: \n",
      "Number of rows:  10841\n",
      "Number of columns:  13\n",
      "----------------------------------------------------------------------------------------------------\n",
      "['id', 'track_name', 'size_bytes', 'currency', 'price', 'rating_count_tot', 'rating_count_ver', 'user_rating', 'user_rating_ver', 'ver', 'cont_rating', 'prime_genre', 'sup_devices.num', 'ipadSc_urls.num', 'lang.num', 'vpp_lic']\n",
      "['284882215', 'Facebook', '389879808', 'USD', '0.0', '2974676', '212', '3.5', '3.5', '95.0', '4+', 'Social Networking', '37', '1', '29', '1']\n",
      "['389801252', 'Instagram', '113954816', 'USD', '0.0', '2161558', '1289', '4.5', '4.0', '10.23', '12+', 'Photo & Video', '37', '0', '29', '1']\n",
      "['529479190', 'Clash of Clans', '116476928', 'USD', '0.0', '2130805', '579', '4.5', '4.5', '9.24.12', '9+', 'Games', '38', '5', '18', '1']\n",
      "['420009108', 'Temple Run', '65921024', 'USD', '0.0', '1724546', '3842', '4.5', '4.0', '1.6.2', '9+', 'Games', '40', '5', '1', '1']\n",
      "['284035177', 'Pandora - Music & Radio', '130242560', 'USD', '0.0', '1126879', '3594', '4.0', '4.5', '8.4.1', '12+', 'Music', '37', '4', '1', '1']\n",
      "['429047995', 'Pinterest', '74778624', 'USD', '0.0', '1061624', '1814', '4.5', '4.0', '6.26', '12+', 'Social Networking', '37', '5', '27', '1']\n",
      "Summary: \n",
      "Number of rows:  7197\n",
      "Number of columns:  16\n"
     ]
    }
   ],
   "source": [
    "from csv import reader\n",
    "# Open and read data\n",
    "def read_data(file_name, header=True):\n",
    "    open_file = open(file_name, encoding='utf8')\n",
    "    read_file = reader(open_file)\n",
    "    dataset = list(read_file)\n",
    "    if header: # The header is extracted\n",
    "        return dataset[0], dataset[1:]\n",
    "    else:\n",
    "        return dataset\n",
    "\n",
    "def explore_data(dataset, start, end, rows_and_columns=False):\n",
    "    data_slice = dataset[start:end]\n",
    "    for row in data_slice:\n",
    "        print(row)\n",
    "    if rows_and_columns:\n",
    "        print(\"Summary: \")\n",
    "        print(\"Number of rows: \", len(dataset))\n",
    "        print(\"Number of columns: \", len(dataset[0]))\n",
    "\n",
    "android = read_data(\"googleplaystore.csv\") # read the googleplaystore.csv\n",
    "android_header, android_file = android[0], android[1]\n",
    "print(android_header)\n",
    "explore_data(android_file, 0, 4, True) # 3 first rows of android_file\n",
    "print(\"-\" * 100)\n",
    "ios = read_data(\"AppleStore.csv\") # read the AppleStore.csv\n",
    "ios_header, ios_file = ios[0], ios[1]\n",
    "print(ios_header)\n",
    "explore_data(ios_file, 0, 6, True); # 6 first rows of android_file"
   ]
  },
  {
   "cell_type": "markdown",
   "metadata": {},
   "source": [
    "### Delete Wrong Data (Data cleaning)"
   ]
  },
  {
   "cell_type": "code",
   "execution_count": 6,
   "metadata": {},
   "outputs": [
    {
     "name": "stdout",
     "output_type": "stream",
     "text": [
      "['App', 'Category', 'Rating', 'Reviews', 'Size', 'Installs', 'Type', 'Price', 'Content Rating', 'Genres', 'Last Updated', 'Current Ver', 'Android Ver']\n",
      "['Life Made WI-Fi Touchscreen Photo Frame', '1.9', '19', '3.0M', '1,000+', 'Free', '0', 'Everyone', '', 'February 11, 2018', '1.0.19', '4.0 and up']\n",
      "10841\n",
      "10840\n"
     ]
    }
   ],
   "source": [
    "# google play csv file: row 10472 incorrect rating = 19 while maximum rating is 5. This row should be deleted\n",
    "print(android_header)\n",
    "print(android_file[10472])\n",
    "print(len(android_file))\n",
    "# del android_file[10472] # must run one time\n",
    "print(len(android_file))"
   ]
  },
  {
   "cell_type": "markdown",
   "metadata": {},
   "source": [
    "### Remove duplicate value"
   ]
  },
  {
   "cell_type": "code",
   "execution_count": 7,
   "metadata": {},
   "outputs": [
    {
     "name": "stdout",
     "output_type": "stream",
     "text": [
      "Number of duplicate apps: 1181\n",
      "\n",
      "\n",
      "Examples of duplicate apps: ['Quick PDF Scanner + OCR FREE', 'Box', 'Google My Business', 'ZOOM Cloud Meetings', 'join.me - Simple Meetings', 'Box', 'Zenefits', 'Google Ads', 'Google My Business', 'Slack', 'FreshBooks Classic', 'Insightly CRM', 'QuickBooks Accounting: Invoicing & Expenses', 'HipChat - Chat Built for Teams', 'Xero Accounting Software']\n"
     ]
    }
   ],
   "source": [
    "# Count how many duplicate value + unique value\n",
    "def duplicate_unique(file):\n",
    "    duplicate = []\n",
    "    unique = []\n",
    "    for app in file:\n",
    "        name = app[0]\n",
    "        if name in unique:\n",
    "            duplicate.append(name)\n",
    "        else:\n",
    "            unique.append(name)\n",
    "    return duplicate, unique\n",
    "\n",
    "print('Number of duplicate apps:', len(duplicate_unique(android_file)[0]))\n",
    "print('\\n')\n",
    "print('Examples of duplicate apps:', duplicate_unique(android_file)[0][:15])"
   ]
  },
  {
   "cell_type": "code",
   "execution_count": 8,
   "metadata": {},
   "outputs": [
    {
     "name": "stdout",
     "output_type": "stream",
     "text": [
      "Actual length:  9659\n",
      "Expected length:  9659\n"
     ]
    }
   ],
   "source": [
    "# Create new dictionary {key=unique_app, value=highest_number_of_rating} => extract unique value with the highest number of rating\n",
    "reviews_max = {}\n",
    "for app in android_file:\n",
    "    name = app[0] # current app\n",
    "    n_reviews = float(app[3]) # current review\n",
    "    if name in reviews_max and reviews_max[name] < n_reviews:\n",
    "        reviews_max[name] = n_reviews # update to current reviews\n",
    "    elif name not in reviews_max:\n",
    "        reviews_max[name] = n_reviews\n",
    "\n",
    "print(\"Actual length: \", len(reviews_max))\n",
    "print(\"Expected length: \", len(android_file) - 1181)"
   ]
  },
  {
   "cell_type": "code",
   "execution_count": 9,
   "metadata": {},
   "outputs": [
    {
     "name": "stdout",
     "output_type": "stream",
     "text": [
      "9659\n",
      "['Photo Editor & Candy Camera & Grid & ScrapBook', 'ART_AND_DESIGN', '4.1', '159', '19M', '10,000+', 'Free', '0', 'Everyone', 'Art & Design', 'January 7, 2018', '1.0.0', '4.0.3 and up']\n",
      "['U Launcher Lite – FREE Live Cool Themes, Hide Apps', 'ART_AND_DESIGN', '4.7', '87510', '8.7M', '5,000,000+', 'Free', '0', 'Everyone', 'Art & Design', 'August 1, 2018', '1.2.4', '4.0.3 and up']\n",
      "['Sketch - Draw & Paint', 'ART_AND_DESIGN', '4.5', '215644', '25M', '50,000,000+', 'Free', '0', 'Teen', 'Art & Design', 'June 8, 2018', 'Varies with device', '4.2 and up']\n",
      "Summary: \n",
      "Number of rows:  9659\n",
      "Number of columns:  13\n"
     ]
    }
   ],
   "source": [
    "# Remove duplicate value on Android dataset by using reviews_max dictionary above => create new dataset from android dataset with no duplicated value and highest number of reviews\n",
    "android_clean = [] # The list to contain android clean data\n",
    "already_add = [] # The name of application has been added to android_clean list above\n",
    "\n",
    "for app in android_file:\n",
    "    name = app[0]\n",
    "    n_reviews = float(app[android_header.index('Reviews')])\n",
    "    if reviews_max[name] == n_reviews and (name not in already_add):\n",
    "        android_clean.append(app)\n",
    "        already_add.append(name)\n",
    "\n",
    "print(len(android_clean))\n",
    "explore_data(android_clean, 0, 3, True)"
   ]
  },
  {
   "cell_type": "markdown",
   "metadata": {},
   "source": [
    "### Removing non-english app"
   ]
  },
  {
   "cell_type": "code",
   "execution_count": 10,
   "metadata": {},
   "outputs": [
    {
     "name": "stdout",
     "output_type": "stream",
     "text": [
      "True\n",
      "False\n",
      "False\n",
      "False\n"
     ]
    }
   ],
   "source": [
    "# Check the app name\n",
    "# Check the app is English or not\n",
    "# Check non-English character in the name app by ASCII range (0-127)\n",
    "\n",
    "def is_english(string):\n",
    "    for char in string:\n",
    "        if ord(char) > 127:\n",
    "            return False\n",
    "    return True\n",
    "\n",
    "print(is_english('Instagram'))\n",
    "print(is_english('爱奇艺PPS -《欢乐颂2》电视剧热播'))\n",
    "print(is_english('Docs To Go™ Free Office Suite'))\n",
    "print(is_english('Instachat 😜'))"
   ]
  },
  {
   "cell_type": "code",
   "execution_count": 11,
   "metadata": {},
   "outputs": [
    {
     "name": "stdout",
     "output_type": "stream",
     "text": [
      "True\n",
      "True\n"
     ]
    }
   ],
   "source": [
    "# However, some english app name contain extra icon or symbol, so applying the above method might accidentally remove English app and lead to data loss\n",
    "# Therefore we only defined a non-English app if its name contains more than 3 non-English character\n",
    "def is_english(string):\n",
    "    non_ascii = 0\n",
    "    for char in string:\n",
    "        if ord(char) > 127:\n",
    "            non_ascii += 1\n",
    "    if non_ascii > 3:\n",
    "        return False\n",
    "    else:\n",
    "        return True\n",
    "\n",
    "print(is_english('Docs To Go™ Free Office Suite'))\n",
    "print(is_english('Instachat 😜'))\n",
    "\n",
    "# Now these apps are still remained in english app list"
   ]
  },
  {
   "cell_type": "code",
   "execution_count": 12,
   "metadata": {},
   "outputs": [
    {
     "name": "stdout",
     "output_type": "stream",
     "text": [
      "['Photo Editor & Candy Camera & Grid & ScrapBook', 'ART_AND_DESIGN', '4.1', '159', '19M', '10,000+', 'Free', '0', 'Everyone', 'Art & Design', 'January 7, 2018', '1.0.0', '4.0.3 and up']\n",
      "['U Launcher Lite – FREE Live Cool Themes, Hide Apps', 'ART_AND_DESIGN', '4.7', '87510', '8.7M', '5,000,000+', 'Free', '0', 'Everyone', 'Art & Design', 'August 1, 2018', '1.2.4', '4.0.3 and up']\n",
      "['Sketch - Draw & Paint', 'ART_AND_DESIGN', '4.5', '215644', '25M', '50,000,000+', 'Free', '0', 'Teen', 'Art & Design', 'June 8, 2018', 'Varies with device', '4.2 and up']\n",
      "Summary: \n",
      "Number of rows:  9614\n",
      "Number of columns:  13\n",
      "['284882215', 'Facebook', '389879808', 'USD', '0.0', '2974676', '212', '3.5', '3.5', '95.0', '4+', 'Social Networking', '37', '1', '29', '1']\n",
      "['389801252', 'Instagram', '113954816', 'USD', '0.0', '2161558', '1289', '4.5', '4.0', '10.23', '12+', 'Photo & Video', '37', '0', '29', '1']\n",
      "['529479190', 'Clash of Clans', '116476928', 'USD', '0.0', '2130805', '579', '4.5', '4.5', '9.24.12', '9+', 'Games', '38', '5', '18', '1']\n",
      "Summary: \n",
      "Number of rows:  6183\n",
      "Number of columns:  16\n"
     ]
    }
   ],
   "source": [
    "# Filter all english applications in both Google Play and Apple datasets\n",
    "android_english = []\n",
    "ios_english = []\n",
    "\n",
    "for app in android_clean: # Remember to use android_clean file\n",
    "    name = app[0]\n",
    "    if is_english(name):\n",
    "        android_english.append(app)\n",
    "explore_data(android_english, 0, 3, True)\n",
    "\n",
    "for app in ios_file:\n",
    "    name = app[1]\n",
    "    if is_english(name):\n",
    "        ios_english.append(app)\n",
    "\n",
    "explore_data(ios_english, 0, 3, True)"
   ]
  },
  {
   "cell_type": "markdown",
   "source": [
    "### Isolating free app:\n"
   ],
   "metadata": {
    "collapsed": false
   }
  },
  {
   "cell_type": "code",
   "execution_count": 14,
   "outputs": [
    {
     "name": "stdout",
     "output_type": "stream",
     "text": [
      "['id', 'track_name', 'size_bytes', 'currency', 'price', 'rating_count_tot', 'rating_count_ver', 'user_rating', 'user_rating_ver', 'ver', 'cont_rating', 'prime_genre', 'sup_devices.num', 'ipadSc_urls.num', 'lang.num', 'vpp_lic']\n",
      "Length of actual android apps list:  8864\n",
      "Length of actual ios apps list:  3222\n"
     ]
    }
   ],
   "source": [
    "# Filter all purchased app out of list. Finish data cleaning\n",
    "android_final = []\n",
    "ios_final = []\n",
    "\n",
    "for app in android_english:\n",
    "    price = app[android_header.index('Price')]\n",
    "    if price == '0':\n",
    "        android_final.append(app)\n",
    "\n",
    "for app in ios_english:\n",
    "    price = app[4]\n",
    "    if price == '0.0':\n",
    "        ios_final.append(app)\n",
    "\n",
    "print(\"Length of actual android apps list: \", len(android_final))\n",
    "print(\"Length of actual ios apps list: \", len(ios_final))"
   ],
   "metadata": {
    "collapsed": false
   }
  },
  {
   "cell_type": "markdown",
   "source": [
    "### Most common apps by genre\n",
    "- The revenue might increase by the number of users using our apps, so it's reasonable to figure out kinds of app that attract most users"
   ],
   "metadata": {
    "collapsed": false
   }
  },
  {
   "cell_type": "code",
   "execution_count": 62,
   "outputs": [
    {
     "name": "stdout",
     "output_type": "stream",
     "text": [
      "DISPLAY\n",
      "----------------------------------------------------\n",
      "FAMILY  :  18.907942238267147\n",
      "GAME  :  9.724729241877256\n",
      "TOOLS  :  8.461191335740072\n",
      "BUSINESS  :  4.591606498194946\n",
      "LIFESTYLE  :  3.9034296028880866\n",
      "PRODUCTIVITY  :  3.892148014440433\n",
      "FINANCE  :  3.7003610108303246\n",
      "MEDICAL  :  3.531137184115524\n",
      "SPORTS  :  3.395758122743682\n",
      "PERSONALIZATION  :  3.3167870036101084\n",
      "COMMUNICATION  :  3.2378158844765346\n",
      "HEALTH_AND_FITNESS  :  3.0798736462093865\n",
      "PHOTOGRAPHY  :  2.944494584837545\n",
      "NEWS_AND_MAGAZINES  :  2.7978339350180503\n",
      "SOCIAL  :  2.6624548736462095\n",
      "TRAVEL_AND_LOCAL  :  2.33528880866426\n",
      "SHOPPING  :  2.2450361010830324\n",
      "BOOKS_AND_REFERENCE  :  2.1435018050541514\n",
      "DATING  :  1.861462093862816\n",
      "VIDEO_PLAYERS  :  1.7937725631768955\n",
      "MAPS_AND_NAVIGATION  :  1.3989169675090252\n",
      "FOOD_AND_DRINK  :  1.2409747292418771\n",
      "EDUCATION  :  1.1620036101083033\n",
      "ENTERTAINMENT  :  0.9589350180505415\n",
      "LIBRARIES_AND_DEMO  :  0.9363718411552346\n",
      "AUTO_AND_VEHICLES  :  0.9250902527075812\n",
      "HOUSE_AND_HOME  :  0.8235559566787004\n",
      "WEATHER  :  0.8009927797833934\n",
      "EVENTS  :  0.7107400722021661\n",
      "PARENTING  :  0.6543321299638989\n",
      "ART_AND_DESIGN  :  0.6430505415162455\n",
      "COMICS  :  0.6204873646209386\n",
      "BEAUTY  :  0.5979241877256317\n",
      "None\n",
      "----------------------------------------------------\n",
      "Games  :  58.16263190564867\n",
      "Entertainment  :  7.883302296710118\n",
      "Photo & Video  :  4.9658597144630665\n",
      "Education  :  3.662321539416512\n",
      "Social Networking  :  3.2898820608317814\n",
      "Shopping  :  2.60707635009311\n",
      "Utilities  :  2.5139664804469275\n",
      "Sports  :  2.1415270018621975\n",
      "Music  :  2.0484171322160147\n",
      "Health & Fitness  :  2.0173805090006205\n",
      "Productivity  :  1.7380509000620732\n",
      "Lifestyle  :  1.5828677839851024\n",
      "News  :  1.3345747982619491\n",
      "Travel  :  1.2414649286157666\n",
      "Finance  :  1.1173184357541899\n",
      "Weather  :  0.8690254500310366\n",
      "Food & Drink  :  0.8069522036002483\n",
      "Reference  :  0.5586592178770949\n",
      "Business  :  0.5276225946617008\n",
      "Book  :  0.4345127250155183\n",
      "Navigation  :  0.186219739292365\n",
      "Medical  :  0.186219739292365\n",
      "Catalogs  :  0.12414649286157665\n",
      "None\n"
     ]
    }
   ],
   "source": [
    "# Build a frequency table to show app genres on dataset in descending order -> find common app genres on dataset\n",
    "# For android dataset: use 'Category' or 'Genres' column\n",
    "# For ios dataset: use prime_genre column\n",
    "def freq_table(dataset, index):\n",
    "    table = {}\n",
    "    table_percentage = {}\n",
    "    total = 0\n",
    "\n",
    "    for row in dataset:\n",
    "        total += 1\n",
    "        key = row[index]\n",
    "        if key in table:\n",
    "            table[key] += 1\n",
    "        else:\n",
    "            table[key] = 1\n",
    "\n",
    "    for key in table:\n",
    "        table_percentage[key] = (table[key] / total * 100)\n",
    "    return table_percentage\n",
    "\n",
    "# Sort the data in descending order, because dataset\n",
    "def display_table(dataset, index):\n",
    "    table = freq_table(dataset, index)\n",
    "    table_display = []\n",
    "    for key in table:\n",
    "        pair_tuple =  (table[key], key)\n",
    "        table_display.append(pair_tuple)\n",
    "\n",
    "    table_sorted = sorted(table_display, reverse=True)\n",
    "    for i in table_sorted:\n",
    "        print(i[1], \" : \", i[0])\n",
    "\n",
    "\n",
    "print('DISPLAY')\n",
    "# print(display_sorted_table(android_final, android_header.index('Genres')))\n",
    "print('----------------------------------------------------')\n",
    "print(display_table(android_final, android_header.index('Category')))\n",
    "print('----------------------------------------------------')\n",
    "print(display_table(ios_final, ios_header.index('prime_genre')))"
   ],
   "metadata": {
    "collapsed": false
   }
  },
  {
   "cell_type": "markdown",
   "source": [],
   "metadata": {
    "collapsed": false
   }
  },
  {
   "cell_type": "markdown",
   "source": [
    "### Analyse frequency table"
   ],
   "metadata": {
    "collapsed": false
   }
  },
  {
   "cell_type": "markdown",
   "source": [
    "Analyze the frequency table you generated for the prime_genre column of the App Store dataset:\n",
    "- What is the most common genre? What is the next most common?\n",
    "    - Game (58.1%), entertainment(7.8%), photo and videos (4.9%)\n",
    "    - Only 3.6% app genre is education followed by social networking is 3.2%\n",
    "- What other patterns do you see?\n",
    "    - The percentage of game is extremely higher compared to other categories\n",
    "- What is the general impression — are most of the apps designed for practical purposes (education, shopping, utilities, productivity, lifestyle) or more for - entertainment (games, photo and video, social networking, sports, music)?\n",
    "    -  Most of the apps on Apps Store are designed for entertainment purpose.\n",
    "- Can you recommend an app profile for the App Store market based on this frequency table alone? If there's a large number of apps for a particular genre, does that - also imply that apps of that genre generally have a large number of users?\n",
    "    -  It is hard and recommend new application based on this frequency table alone. In fact, a genre has large number of apps does not imply an app of that genre are well-known by the users, because it depends on the actual demand of users. We need to make further analysis to make a conclusion"
   ],
   "metadata": {
    "collapsed": false
   }
  },
  {
   "cell_type": "markdown",
   "source": [
    "Analyze the frequency table you generated for the Category and Genres column of the Google Play dataset.\n",
    "- What are the most common genres?\n",
    "    - Category column: FAMILY (18.9%), GAME (9.7%), TOOLS (8.4%), BUSINESS (4.6%)\n",
    "    - Genre column: Tools (8.4%), Entertainment (6.0%), Education (5.3%), business (4.6%)\n",
    "- What other patterns do you see?\n",
    "    - Most apps in FAMILY category is actually games for kids in real Google Play Store\n",
    "    - The content of both category and genre column are quite similar. However, there are many categories in the genre column that could be hard to follow for further analysis, so we'll choose 'Category' column in Android dataset.\n",
    "- Compare the patterns you see for the Google Play market with those you saw for the App Store market.\n",
    "    - Most apps in Apps Store are designed for entertainment purpose, while there is a balance between practical and entertainment app in the Google Play Store\n",
    "- Can you recommend an app profile based on what you found so far? Do the frequency tables you generated reveal the most frequent app genres or what genres have the most users?\n",
    "    - The answer is no. Since the most frequent app genre display the highest quantity of apps in a genre are produced, not which genre has the most users installed its apps."
   ],
   "metadata": {
    "collapsed": false
   }
  },
  {
   "cell_type": "markdown",
   "source": [
    "### Most popular app by genre on the App Store\n",
    "- Find the average ratings of apps in a genre."
   ],
   "metadata": {
    "collapsed": false
   }
  },
  {
   "cell_type": "code",
   "execution_count": 78,
   "outputs": [
    {
     "name": "stdout",
     "output_type": "stream",
     "text": [
      "['id', 'track_name', 'size_bytes', 'currency', 'price', 'rating_count_tot', 'rating_count_ver', 'user_rating', 'user_rating_ver', 'ver', 'cont_rating', 'prime_genre', 'sup_devices.num', 'ipadSc_urls.num', 'lang.num', 'vpp_lic']\n",
      "Navigation : 86090.33333333333\n",
      "Reference : 74942.11111111111\n",
      "Social Networking : 71548.34905660378\n",
      "Music : 57326.530303030304\n",
      "Weather : 52279.892857142855\n",
      "Book : 39758.5\n",
      "Food & Drink : 33333.92307692308\n",
      "Finance : 31467.944444444445\n",
      "Photo & Video : 28441.54375\n",
      "Travel : 28243.8\n",
      "Shopping : 26919.690476190477\n",
      "Health & Fitness : 23298.015384615384\n",
      "Sports : 23008.898550724636\n",
      "Games : 22788.6696905016\n",
      "News : 21248.023255813954\n",
      "Productivity : 21028.410714285714\n",
      "Utilities : 18684.456790123455\n",
      "Lifestyle : 16485.764705882353\n",
      "Entertainment : 14029.830708661417\n",
      "Business : 7491.117647058823\n",
      "Education : 7003.983050847458\n",
      "Catalogs : 4004.0\n",
      "Medical : 612.0\n",
      "None\n"
     ]
    }
   ],
   "source": [
    "# Calculate number of installs for each app genre\n",
    "# Ios: use rating_count_tot column\n",
    "# Android: use 'Installs' column\n",
    "genre_ios = freq_table(ios_final, ios_header.index('prime_genre'))\n",
    "# print(genre_ios)\n",
    "print(ios_header)\n",
    "\n",
    "avg_ios = {}\n",
    "for genre in genre_ios:\n",
    "    total_ratings = 0 # Sum of user ratings to each genre\n",
    "    len_genre = 0 # Number of apps in each genre\n",
    "    for app in ios_final:\n",
    "        genre_app = app[ios_header.index('prime_genre')]\n",
    "        if genre_app == genre:\n",
    "            n_ratings = float(app[ios_header.index('rating_count_tot')])\n",
    "            total_ratings += n_ratings\n",
    "            len_genre += 1\n",
    "    avg_n_ratings = total_ratings / len_genre\n",
    "    avg_ios[genre] = avg_n_ratings\n",
    "\n",
    "\n",
    "def sorted_dataset(dataset):\n",
    "    table_sorted = []\n",
    "    for key in dataset:\n",
    "        table_tuple = (dataset[key], key)\n",
    "        table_sorted.append(table_tuple)\n",
    "    table_sorted = sorted(table_sorted, reverse=True)\n",
    "    for i in table_sorted:\n",
    "        print(i[1], \":\", i[0])\n",
    "\n",
    "# print(avg_ios)\n",
    "print(sorted_dataset(avg_ios))"
   ],
   "metadata": {
    "collapsed": false
   }
  },
  {
   "cell_type": "code",
   "execution_count": 79,
   "outputs": [
    {
     "name": "stdout",
     "output_type": "stream",
     "text": [
      "['App', 'Category', 'Rating', 'Reviews', 'Size', 'Installs', 'Type', 'Price', 'Content Rating', 'Genres', 'Last Updated', 'Current Ver', 'Android Ver']\n",
      "COMMUNICATION : 38456119.167247385\n",
      "VIDEO_PLAYERS : 24727872.452830188\n",
      "SOCIAL : 23253652.127118643\n",
      "PHOTOGRAPHY : 17840110.40229885\n",
      "PRODUCTIVITY : 16787331.344927534\n",
      "GAME : 15588015.603248259\n",
      "TRAVEL_AND_LOCAL : 13984077.710144928\n",
      "ENTERTAINMENT : 11640705.88235294\n",
      "TOOLS : 10801391.298666667\n",
      "NEWS_AND_MAGAZINES : 9549178.467741935\n",
      "BOOKS_AND_REFERENCE : 8767811.894736841\n",
      "SHOPPING : 7036877.311557789\n",
      "PERSONALIZATION : 5201482.6122448975\n",
      "WEATHER : 5074486.197183099\n",
      "HEALTH_AND_FITNESS : 4188821.9853479853\n",
      "MAPS_AND_NAVIGATION : 4056941.7741935486\n",
      "FAMILY : 3695641.8198090694\n",
      "SPORTS : 3638640.1428571427\n",
      "ART_AND_DESIGN : 1986335.0877192982\n",
      "FOOD_AND_DRINK : 1924897.7363636363\n",
      "EDUCATION : 1833495.145631068\n",
      "BUSINESS : 1712290.1474201474\n",
      "LIFESTYLE : 1437816.2687861272\n",
      "FINANCE : 1387692.475609756\n",
      "HOUSE_AND_HOME : 1331540.5616438356\n",
      "DATING : 854028.8303030303\n",
      "COMICS : 817657.2727272727\n",
      "AUTO_AND_VEHICLES : 647317.8170731707\n",
      "LIBRARIES_AND_DEMO : 638503.734939759\n",
      "PARENTING : 542603.6206896552\n",
      "BEAUTY : 513151.88679245283\n",
      "EVENTS : 253542.22222222222\n",
      "MEDICAL : 120550.61980830671\n",
      "None\n"
     ]
    }
   ],
   "source": [
    "print(android_header)\n",
    "genre_android = freq_table(android_final, android_header.index('Category'))\n",
    "avg_android = {}\n",
    "for genre in genre_android:\n",
    "    total_installs = 0\n",
    "    len_genre = 0\n",
    "    for app in android_final:\n",
    "        category_app = app[android_header.index('Category')]\n",
    "        if category_app == genre:\n",
    "            n_installs = app[android_header.index('Installs')]\n",
    "            n_installs = n_installs.replace(\"+\", \"\").replace(\",\", \"\") # remove redundant character: \"+\" or \",\"\n",
    "            n_installs = float(n_installs) # convert to float number\n",
    "            total_installs += n_installs\n",
    "            len_genre += 1\n",
    "    avg_n_installs = total_installs / len_genre\n",
    "    avg_android[genre] = avg_n_installs\n",
    "\n",
    "print(sorted_dataset(avg_android))"
   ],
   "metadata": {
    "collapsed": false
   }
  },
  {
   "cell_type": "markdown",
   "source": [
    "### Conclusion:\n",
    "- Try to recommend an application: No fixed answer. This step will be done later after improving domain knowledge"
   ],
   "metadata": {
    "collapsed": false
   }
  },
  {
   "cell_type": "code",
   "execution_count": null,
   "outputs": [],
   "source": [],
   "metadata": {
    "collapsed": false
   }
  }
 ],
 "metadata": {
  "kernelspec": {
   "display_name": "Python 3 (ipykernel)",
   "language": "python",
   "name": "python3"
  },
  "language_info": {
   "codemirror_mode": {
    "name": "ipython",
    "version": 2
   },
   "file_extension": ".py",
   "mimetype": "text/x-python",
   "name": "python",
   "nbconvert_exporter": "python",
   "pygments_lexer": "ipython2",
   "version": "2.7.6"
  }
 },
 "nbformat": 4,
 "nbformat_minor": 1
}
